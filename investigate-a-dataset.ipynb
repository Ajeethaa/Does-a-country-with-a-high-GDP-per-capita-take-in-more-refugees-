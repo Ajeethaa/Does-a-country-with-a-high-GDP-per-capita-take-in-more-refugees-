{
 "cells": [
  {
   "cell_type": "markdown",
   "metadata": {},
   "source": [
    "\n",
    "# Project: To find out whether a country with the highest GDP per capita and population growth would host more refugees as opposed to the lowest. \n",
    "\n",
    "## Table of Contents\n",
    "<ul>\n",
    "<li><a href=\"#intro\">Introduction</a></li>\n",
    "<li><a href=\"#wrangling\">Data Wrangling</a></li>\n",
    "<li><a href=\"#eda\">Exploratory Data Analysis</a></li>\n",
    "<li><a href=\"#conclusions\">Conclusions</a></li>\n",
    "</ul>"
   ]
  },
  {
   "cell_type": "markdown",
   "metadata": {},
   "source": [
    "<a id='intro'></a>\n",
    "## Introduction\n",
    "\n",
    "> This project will find out if a country with the highest GDP per capita would have a higher percentage of refugees. The notion is a country that is wealthier would have the necessary resources and fund to host as many refugees that the one that has the lowest GDP per capita. This analysis will not be a comprehensive one as GDP per capita depends on a number of factors including population size. \n",
    "\n",
    "> For this project, I will be including three indicators; population growth, refugees by percentage* and GDP per capita. I will be focusing on three countries which I will choose based on the lowest, middle and highest GDP per capita in the year 2017. The focus year is 2017 to simplify the research. All data will be extracted from Gapminder.com.\n",
    "\n",
    ">NOTE*: the percentage of refugees in a host country abroad. This data tells us about refugees living outside of their home country."
   ]
  },
  {
   "cell_type": "code",
   "execution_count": 882,
   "metadata": {},
   "outputs": [],
   "source": [
    "import pandas as pd\n",
    "import numpy as np\n",
    "import matplotlib.pyplot as plt\n",
    "import seaborn as sb\n",
    "%matplotlib inline"
   ]
  },
  {
   "cell_type": "markdown",
   "metadata": {},
   "source": [
    "<a id='wrangling'></a>\n",
    "## Data Wrangling\n",
    "\n",
    "### General Properties"
   ]
  },
  {
   "cell_type": "code",
   "execution_count": 883,
   "metadata": {},
   "outputs": [],
   "source": [
    "refugee_number = pd.read_csv('refugee_in_perc_wb.csv')\n",
    "refugee_number.set_index('Country', drop = True, inplace= True)\n",
    "\n",
    "gdp_per_capita = pd.read_csv('income_per_person_gdp.csv')\n",
    "gdp_per_capita.set_index('Country', drop = True, inplace= True)\n",
    "\n",
    "population_growth = pd.read_csv('population_growth_annual_percent.csv')\n",
    "population_growth.set_index('country', drop = True, inplace = True)\n"
   ]
  },
  {
   "cell_type": "code",
   "execution_count": 884,
   "metadata": {},
   "outputs": [
    {
     "name": "stdout",
     "output_type": "stream",
     "text": [
      "<class 'pandas.core.frame.DataFrame'>\n",
      "Index: 194 entries, Afghanistan to Zimbabwe\n",
      "Data columns (total 58 columns):\n",
      " #   Column  Non-Null Count  Dtype  \n",
      "---  ------  --------------  -----  \n",
      " 0   1960    191 non-null    float64\n",
      " 1   1961    192 non-null    float64\n",
      " 2   1962    192 non-null    float64\n",
      " 3   1963    192 non-null    float64\n",
      " 4   1964    192 non-null    float64\n",
      " 5   1965    192 non-null    float64\n",
      " 6   1966    192 non-null    float64\n",
      " 7   1967    192 non-null    float64\n",
      " 8   1968    192 non-null    float64\n",
      " 9   1969    192 non-null    float64\n",
      " 10  1970    192 non-null    float64\n",
      " 11  1971    192 non-null    float64\n",
      " 12  1972    192 non-null    float64\n",
      " 13  1973    192 non-null    float64\n",
      " 14  1974    192 non-null    float64\n",
      " 15  1975    192 non-null    float64\n",
      " 16  1976    192 non-null    float64\n",
      " 17  1977    192 non-null    float64\n",
      " 18  1978    192 non-null    float64\n",
      " 19  1979    192 non-null    float64\n",
      " 20  1980    192 non-null    float64\n",
      " 21  1981    192 non-null    float64\n",
      " 22  1982    192 non-null    float64\n",
      " 23  1983    192 non-null    float64\n",
      " 24  1984    192 non-null    float64\n",
      " 25  1985    192 non-null    float64\n",
      " 26  1986    192 non-null    float64\n",
      " 27  1987    192 non-null    float64\n",
      " 28  1988    192 non-null    float64\n",
      " 29  1989    192 non-null    float64\n",
      " 30  1990    193 non-null    float64\n",
      " 31  1991    193 non-null    float64\n",
      " 32  1992    193 non-null    float64\n",
      " 33  1993    193 non-null    float64\n",
      " 34  1994    193 non-null    float64\n",
      " 35  1995    193 non-null    float64\n",
      " 36  1996    194 non-null    float64\n",
      " 37  1997    194 non-null    float64\n",
      " 38  1998    194 non-null    float64\n",
      " 39  1999    194 non-null    float64\n",
      " 40  2000    194 non-null    float64\n",
      " 41  2001    194 non-null    float64\n",
      " 42  2002    194 non-null    float64\n",
      " 43  2003    194 non-null    float64\n",
      " 44  2004    194 non-null    float64\n",
      " 45  2005    194 non-null    float64\n",
      " 46  2006    194 non-null    float64\n",
      " 47  2007    194 non-null    float64\n",
      " 48  2008    194 non-null    float64\n",
      " 49  2009    194 non-null    float64\n",
      " 50  2010    194 non-null    float64\n",
      " 51  2011    193 non-null    float64\n",
      " 52  2012    193 non-null    float64\n",
      " 53  2013    193 non-null    float64\n",
      " 54  2014    193 non-null    float64\n",
      " 55  2015    193 non-null    float64\n",
      " 56  2016    193 non-null    float64\n",
      " 57  2017    193 non-null    float64\n",
      "dtypes: float64(58)\n",
      "memory usage: 88.7+ KB\n",
      "<class 'pandas.core.frame.DataFrame'>\n",
      "Index: 193 entries, Afghanistan to Zimbabwe\n",
      "Columns: 241 entries, 1800 to 2040\n",
      "dtypes: int64(241)\n",
      "memory usage: 364.1+ KB\n",
      "<class 'pandas.core.frame.DataFrame'>\n",
      "Index: 194 entries, Afghanistan to Zimbabwe\n",
      "Data columns (total 29 columns):\n",
      " #   Column  Non-Null Count  Dtype  \n",
      "---  ------  --------------  -----  \n",
      " 0   1990    194 non-null    float64\n",
      " 1   1991    194 non-null    float64\n",
      " 2   1992    194 non-null    float64\n",
      " 3   1993    194 non-null    float64\n",
      " 4   1994    194 non-null    float64\n",
      " 5   1995    194 non-null    float64\n",
      " 6   1996    194 non-null    float64\n",
      " 7   1997    194 non-null    float64\n",
      " 8   1998    194 non-null    float64\n",
      " 9   1999    194 non-null    float64\n",
      " 10  2000    194 non-null    float64\n",
      " 11  2001    194 non-null    float64\n",
      " 12  2002    194 non-null    float64\n",
      " 13  2003    194 non-null    float64\n",
      " 14  2004    194 non-null    float64\n",
      " 15  2005    194 non-null    float64\n",
      " 16  2006    194 non-null    float64\n",
      " 17  2007    194 non-null    float64\n",
      " 18  2008    194 non-null    float64\n",
      " 19  2009    194 non-null    float64\n",
      " 20  2010    194 non-null    float64\n",
      " 21  2011    194 non-null    float64\n",
      " 22  2012    194 non-null    float64\n",
      " 23  2013    194 non-null    float64\n",
      " 24  2014    194 non-null    float64\n",
      " 25  2015    194 non-null    float64\n",
      " 26  2016    194 non-null    float64\n",
      " 27  2017    194 non-null    float64\n",
      " 28  2018    194 non-null    float64\n",
      "dtypes: float64(29)\n",
      "memory usage: 44.7+ KB\n"
     ]
    },
    {
     "data": {
      "text/plain": [
       "(None, None, None)"
      ]
     },
     "execution_count": 884,
     "metadata": {},
     "output_type": "execute_result"
    }
   ],
   "source": [
    "population_growth.info(), gdp_per_capita.info(), refugee_number.info()"
   ]
  },
  {
   "cell_type": "markdown",
   "metadata": {},
   "source": [
    "There are some missing data and they will be fixed in the cleaning process next."
   ]
  },
  {
   "cell_type": "markdown",
   "metadata": {},
   "source": [
    "### Data Cleaning "
   ]
  },
  {
   "cell_type": "code",
   "execution_count": 885,
   "metadata": {},
   "outputs": [],
   "source": [
    "refugee_number.drop(refugee_number.loc[:,:'2016'].columns, axis = 1, inplace= True)\n",
    "refugee_number.drop(['2018'], axis = 1, inplace = True)"
   ]
  },
  {
   "cell_type": "code",
   "execution_count": 886,
   "metadata": {},
   "outputs": [],
   "source": [
    "gdp_per_capita.drop(gdp_per_capita.loc[:,:'2016'].columns, axis = 1, inplace= True)\n",
    "gdp_per_capita.drop(gdp_per_capita.loc[:, '2018':].columns, axis = 1, inplace= True)"
   ]
  },
  {
   "cell_type": "code",
   "execution_count": 887,
   "metadata": {},
   "outputs": [],
   "source": [
    "population_growth.drop(population_growth.loc[:,:'2016'].columns, axis = 1, inplace= True) "
   ]
  },
  {
   "cell_type": "code",
   "execution_count": 888,
   "metadata": {},
   "outputs": [
    {
     "data": {
      "text/html": [
       "<div>\n",
       "<style scoped>\n",
       "    .dataframe tbody tr th:only-of-type {\n",
       "        vertical-align: middle;\n",
       "    }\n",
       "\n",
       "    .dataframe tbody tr th {\n",
       "        vertical-align: top;\n",
       "    }\n",
       "\n",
       "    .dataframe thead th {\n",
       "        text-align: right;\n",
       "    }\n",
       "</style>\n",
       "<table border=\"1\" class=\"dataframe\">\n",
       "  <thead>\n",
       "    <tr style=\"text-align: right;\">\n",
       "      <th></th>\n",
       "      <th>2017</th>\n",
       "    </tr>\n",
       "    <tr>\n",
       "      <th>Country</th>\n",
       "      <th></th>\n",
       "    </tr>\n",
       "  </thead>\n",
       "  <tbody>\n",
       "    <tr>\n",
       "      <th>Afghanistan</th>\n",
       "      <td>1760</td>\n",
       "    </tr>\n",
       "    <tr>\n",
       "      <th>Albania</th>\n",
       "      <td>11800</td>\n",
       "    </tr>\n",
       "    <tr>\n",
       "      <th>Algeria</th>\n",
       "      <td>13900</td>\n",
       "    </tr>\n",
       "    <tr>\n",
       "      <th>Andorra</th>\n",
       "      <td>49800</td>\n",
       "    </tr>\n",
       "    <tr>\n",
       "      <th>Angola</th>\n",
       "      <td>6040</td>\n",
       "    </tr>\n",
       "  </tbody>\n",
       "</table>\n",
       "</div>"
      ],
      "text/plain": [
       "              2017\n",
       "Country           \n",
       "Afghanistan   1760\n",
       "Albania      11800\n",
       "Algeria      13900\n",
       "Andorra      49800\n",
       "Angola        6040"
      ]
     },
     "execution_count": 888,
     "metadata": {},
     "output_type": "execute_result"
    }
   ],
   "source": [
    "gdp_per_capita.head()"
   ]
  },
  {
   "cell_type": "markdown",
   "metadata": {},
   "source": [
    "As mentioned in the introduction, the analysis will be on the data in the year 2017. This is just to simplify the project. I have removed all other years using the slicing method. As seen the output, only data in one year for each indicator will be analysed."
   ]
  },
  {
   "cell_type": "code",
   "execution_count": 889,
   "metadata": {},
   "outputs": [
    {
     "data": {
      "text/plain": [
       "(38, 16, 27)"
      ]
     },
     "execution_count": 889,
     "metadata": {},
     "output_type": "execute_result"
    }
   ],
   "source": [
    "(refugee_number.duplicated().sum().sum(), gdp_per_capita.duplicated().sum().sum(), population_growth.duplicated().sum().sum())"
   ]
  },
  {
   "cell_type": "markdown",
   "metadata": {},
   "source": [
    "There are duplicates. However, after a close examination of the Excel sheet, I found the 'duplicated' data are not duplicated. Most were rounded off to 2 decimals but the other to 3 decimals. When I kept the numbers constant to 3 decimals, the 'duplicated' data did not alter. In any case, the duplicated data will not be removed.  "
   ]
  },
  {
   "cell_type": "code",
   "execution_count": 890,
   "metadata": {},
   "outputs": [
    {
     "data": {
      "text/plain": [
       "(0, 0, 1)"
      ]
     },
     "execution_count": 890,
     "metadata": {},
     "output_type": "execute_result"
    }
   ],
   "source": [
    "(refugee_number.isna().sum().sum(), gdp_per_capita.isna().sum().sum(), population_growth.isna().sum().sum())"
   ]
  },
  {
   "cell_type": "code",
   "execution_count": 891,
   "metadata": {},
   "outputs": [],
   "source": [
    "population_growth.dropna(inplace= True)"
   ]
  },
  {
   "cell_type": "code",
   "execution_count": 892,
   "metadata": {},
   "outputs": [
    {
     "data": {
      "text/plain": [
       "0"
      ]
     },
     "execution_count": 892,
     "metadata": {},
     "output_type": "execute_result"
    }
   ],
   "source": [
    "population_growth.isna().sum().sum()"
   ]
  },
  {
   "cell_type": "markdown",
   "metadata": {},
   "source": [
    "All NaN removed. The next steps will be to decide the three countries for analysis. They will be chosen based on their GDP per capita."
   ]
  },
  {
   "cell_type": "code",
   "execution_count": 893,
   "metadata": {},
   "outputs": [
    {
     "data": {
      "text/html": [
       "<div>\n",
       "<style scoped>\n",
       "    .dataframe tbody tr th:only-of-type {\n",
       "        vertical-align: middle;\n",
       "    }\n",
       "\n",
       "    .dataframe tbody tr th {\n",
       "        vertical-align: top;\n",
       "    }\n",
       "\n",
       "    .dataframe thead th {\n",
       "        text-align: right;\n",
       "    }\n",
       "</style>\n",
       "<table border=\"1\" class=\"dataframe\">\n",
       "  <thead>\n",
       "    <tr style=\"text-align: right;\">\n",
       "      <th></th>\n",
       "      <th>2017</th>\n",
       "    </tr>\n",
       "  </thead>\n",
       "  <tbody>\n",
       "    <tr>\n",
       "      <th>count</th>\n",
       "      <td>193.000000</td>\n",
       "    </tr>\n",
       "    <tr>\n",
       "      <th>mean</th>\n",
       "      <td>18172.699482</td>\n",
       "    </tr>\n",
       "    <tr>\n",
       "      <th>std</th>\n",
       "      <td>19393.559289</td>\n",
       "    </tr>\n",
       "    <tr>\n",
       "      <th>min</th>\n",
       "      <td>627.000000</td>\n",
       "    </tr>\n",
       "    <tr>\n",
       "      <th>25%</th>\n",
       "      <td>3650.000000</td>\n",
       "    </tr>\n",
       "    <tr>\n",
       "      <th>50%</th>\n",
       "      <td>11700.000000</td>\n",
       "    </tr>\n",
       "    <tr>\n",
       "      <th>75%</th>\n",
       "      <td>26400.000000</td>\n",
       "    </tr>\n",
       "    <tr>\n",
       "      <th>max</th>\n",
       "      <td>113000.000000</td>\n",
       "    </tr>\n",
       "  </tbody>\n",
       "</table>\n",
       "</div>"
      ],
      "text/plain": [
       "                2017\n",
       "count     193.000000\n",
       "mean    18172.699482\n",
       "std     19393.559289\n",
       "min       627.000000\n",
       "25%      3650.000000\n",
       "50%     11700.000000\n",
       "75%     26400.000000\n",
       "max    113000.000000"
      ]
     },
     "execution_count": 893,
     "metadata": {},
     "output_type": "execute_result"
    }
   ],
   "source": [
    "gdp_per_capita.describe()"
   ]
  },
  {
   "cell_type": "code",
   "execution_count": 894,
   "metadata": {},
   "outputs": [],
   "source": [
    "# To determine the country with the lowest, highest and median GDP per capita:\n",
    "gdp_countries = gdp_per_capita[gdp_per_capita['2017'].isin([\"627\", \"113000\", \"11700\"])]"
   ]
  },
  {
   "cell_type": "code",
   "execution_count": 895,
   "metadata": {},
   "outputs": [
    {
     "data": {
      "text/html": [
       "<div>\n",
       "<style scoped>\n",
       "    .dataframe tbody tr th:only-of-type {\n",
       "        vertical-align: middle;\n",
       "    }\n",
       "\n",
       "    .dataframe tbody tr th {\n",
       "        vertical-align: top;\n",
       "    }\n",
       "\n",
       "    .dataframe thead th {\n",
       "        text-align: right;\n",
       "    }\n",
       "</style>\n",
       "<table border=\"1\" class=\"dataframe\">\n",
       "  <thead>\n",
       "    <tr style=\"text-align: right;\">\n",
       "      <th></th>\n",
       "      <th>2017</th>\n",
       "    </tr>\n",
       "    <tr>\n",
       "      <th>Country</th>\n",
       "      <th></th>\n",
       "    </tr>\n",
       "  </thead>\n",
       "  <tbody>\n",
       "    <tr>\n",
       "      <th>Qatar</th>\n",
       "      <td>113000</td>\n",
       "    </tr>\n",
       "    <tr>\n",
       "      <th>Somalia</th>\n",
       "      <td>627</td>\n",
       "    </tr>\n",
       "    <tr>\n",
       "      <th>Sri Lanka</th>\n",
       "      <td>11700</td>\n",
       "    </tr>\n",
       "  </tbody>\n",
       "</table>\n",
       "</div>"
      ],
      "text/plain": [
       "             2017\n",
       "Country          \n",
       "Qatar      113000\n",
       "Somalia       627\n",
       "Sri Lanka   11700"
      ]
     },
     "execution_count": 895,
     "metadata": {},
     "output_type": "execute_result"
    }
   ],
   "source": [
    "gdp_countries\n",
    "\n",
    "# So the three countries are as follow:"
   ]
  },
  {
   "cell_type": "code",
   "execution_count": 896,
   "metadata": {},
   "outputs": [],
   "source": [
    "refugee = refugee_number.loc[['Somalia', 'Qatar', 'Sri Lanka']]\n",
    "refugee.rename(columns = {'2017': 'Refugee'}, inplace=True)\n",
    "\n",
    "population = population_growth.loc[['Somalia', 'Qatar', 'Sri Lanka']]\n",
    "population.rename(columns = {'2017': 'Population'}, inplace = True)\n",
    "\n",
    "gdp = gdp_countries.loc[['Somalia', 'Qatar', 'Sri Lanka']]\n",
    "gdp.rename(columns = {'2017': 'GDP'}, inplace = True)\n",
    "\n",
    "mean_gdp = gdp_per_capita.mean()\n",
    "meanGDP = mean_gdp.to_frame().T"
   ]
  },
  {
   "cell_type": "markdown",
   "metadata": {},
   "source": [
    "I used the location method to find the three countries in each indicator i.e. refugee percentage, population growth and GDP per capita. I have then renamed all the indicated above.\n",
    "I had an initial idea of using the mean GDP per capita as a gauge (dependent). I have managed to create a separate dataframe for the mean but I got into a pickle while plotting the graphs."
   ]
  },
  {
   "cell_type": "code",
   "execution_count": 897,
   "metadata": {},
   "outputs": [],
   "source": [
    "total = gdp.join([refugee, population])"
   ]
  },
  {
   "cell_type": "code",
   "execution_count": 898,
   "metadata": {},
   "outputs": [
    {
     "data": {
      "text/html": [
       "<div>\n",
       "<style scoped>\n",
       "    .dataframe tbody tr th:only-of-type {\n",
       "        vertical-align: middle;\n",
       "    }\n",
       "\n",
       "    .dataframe tbody tr th {\n",
       "        vertical-align: top;\n",
       "    }\n",
       "\n",
       "    .dataframe thead th {\n",
       "        text-align: right;\n",
       "    }\n",
       "</style>\n",
       "<table border=\"1\" class=\"dataframe\">\n",
       "  <thead>\n",
       "    <tr style=\"text-align: right;\">\n",
       "      <th></th>\n",
       "      <th>GDP</th>\n",
       "      <th>Refugee</th>\n",
       "      <th>Population</th>\n",
       "    </tr>\n",
       "    <tr>\n",
       "      <th>Country</th>\n",
       "      <th></th>\n",
       "      <th></th>\n",
       "      <th></th>\n",
       "    </tr>\n",
       "  </thead>\n",
       "  <tbody>\n",
       "    <tr>\n",
       "      <th>Somalia</th>\n",
       "      <td>627</td>\n",
       "      <td>0.09980</td>\n",
       "      <td>2.92</td>\n",
       "    </tr>\n",
       "    <tr>\n",
       "      <th>Qatar</th>\n",
       "      <td>113000</td>\n",
       "      <td>0.00690</td>\n",
       "      <td>2.67</td>\n",
       "    </tr>\n",
       "    <tr>\n",
       "      <th>Sri Lanka</th>\n",
       "      <td>11700</td>\n",
       "      <td>0.00388</td>\n",
       "      <td>1.13</td>\n",
       "    </tr>\n",
       "  </tbody>\n",
       "</table>\n",
       "</div>"
      ],
      "text/plain": [
       "              GDP  Refugee  Population\n",
       "Country                               \n",
       "Somalia       627  0.09980        2.92\n",
       "Qatar      113000  0.00690        2.67\n",
       "Sri Lanka   11700  0.00388        1.13"
      ]
     },
     "execution_count": 898,
     "metadata": {},
     "output_type": "execute_result"
    }
   ],
   "source": [
    "total"
   ]
  },
  {
   "cell_type": "markdown",
   "metadata": {},
   "source": [
    "The idea is to amalgamate the indicators as one table to simplify plotting later."
   ]
  },
  {
   "cell_type": "markdown",
   "metadata": {},
   "source": [
    "<a id='eda'></a>\n",
    "## Exploratory Data Analysis\n",
    "\n",
    "### How do the countries fare when they are compared based on the indicators?"
   ]
  },
  {
   "cell_type": "code",
   "execution_count": 899,
   "metadata": {},
   "outputs": [
    {
     "data": {
      "image/png": "[encoded data removed]",
      "text/plain": [
       "<Figure size 432x288 with 1 Axes>"
      ]
     },
     "metadata": {
      "needs_background": "light"
     },
     "output_type": "display_data"
    }
   ],
   "source": [
    "total['GDP'].plot.bar();\n"
   ]
  },
  {
   "cell_type": "markdown",
   "metadata": {},
   "source": [
    "Based on the visual above, it tells me that Qatar's GDP per capita is signifcantly higher than the other two countries. Sri Lanka and Somalia have GDP per capita, collectively, under 20000, while Qatar's shoot overs. "
   ]
  },
  {
   "cell_type": "code",
   "execution_count": 900,
   "metadata": {},
   "outputs": [
    {
     "data": {
      "image/png": "[encoded data removed]",
      "text/plain": [
       "<Figure size 432x288 with 1 Axes>"
      ]
     },
     "metadata": {
      "needs_background": "light"
     },
     "output_type": "display_data"
    }
   ],
   "source": [
    "total['Population'].plot.bar();"
   ]
  },
  {
   "cell_type": "markdown",
   "metadata": {},
   "source": [
    "Somalia has a higher population growth than Qatar. Sri Lanka has the least. But the growth between Qatar and Somalia are not far from each other."
   ]
  },
  {
   "cell_type": "code",
   "execution_count": 901,
   "metadata": {},
   "outputs": [
    {
     "data": {
      "image/png": "[encoded data removed]",
      "text/plain": [
       "<Figure size 432x288 with 1 Axes>"
      ]
     },
     "metadata": {
      "needs_background": "light"
     },
     "output_type": "display_data"
    }
   ],
   "source": [
    "total['Refugee'].plot.bar();"
   ]
  },
  {
   "cell_type": "markdown",
   "metadata": {},
   "source": [
    "I was taken aback when I saw this graph. Somalia has the least GDP per capita but its percentage of refugees is the highest as compared to Qatar's, which has the highest amongst countries. Sri Lanka has the least share. A least wealthy country has hosted the most refugees."
   ]
  },
  {
   "cell_type": "code",
   "execution_count": 902,
   "metadata": {},
   "outputs": [
    {
     "data": {
      "image/png": "[encoded data removed]",
      "text/plain": [
       "<Figure size 432x288 with 1 Axes>"
      ]
     },
     "metadata": {
      "needs_background": "light"
     },
     "output_type": "display_data"
    }
   ],
   "source": [
    "total.plot.bar(y = ['Refugee', 'Population']);"
   ]
  },
  {
   "cell_type": "markdown",
   "metadata": {},
   "source": [
    "I have plotted this to see side by side, the refugee percentage and population growth, to see the magnitude of the latter when compared to the former. "
   ]
  },
  {
   "cell_type": "code",
   "execution_count": 903,
   "metadata": {},
   "outputs": [
    {
     "data": {
      "image/png": "[encoded data removed]",
      "text/plain": [
       "<Figure size 432x288 with 1 Axes>"
      ]
     },
     "metadata": {
      "needs_background": "light"
     },
     "output_type": "display_data"
    }
   ],
   "source": [
    "total.plot.bar(y = ['GDP', 'Population',]);"
   ]
  },
  {
   "cell_type": "markdown",
   "metadata": {},
   "source": [
    "Because the values for GDP is just too great as compared to the population growth, one cannot see its values on the graph."
   ]
  },
  {
   "cell_type": "markdown",
   "metadata": {},
   "source": [
    "### Do richer country host more refugees? Do country that has the least population growth take in more refugees to mitigate the effect of declining population? "
   ]
  },
  {
   "cell_type": "code",
   "execution_count": 904,
   "metadata": {},
   "outputs": [
    {
     "data": {
      "image/png": "[encoded data removed]",
      "text/plain": [
       "<Figure size 432x288 with 1 Axes>"
      ]
     },
     "metadata": {
      "needs_background": "light"
     },
     "output_type": "display_data"
    }
   ],
   "source": [
    "total.plot(kind='scatter',x='Population',y='Refugee',color='red')\n",
    "plt.show()"
   ]
  },
  {
   "cell_type": "code",
   "execution_count": 905,
   "metadata": {},
   "outputs": [
    {
     "data": {
      "image/png": "[encoded data removed]",
      "text/plain": [
       "<Figure size 432x288 with 1 Axes>"
      ]
     },
     "metadata": {
      "needs_background": "light"
     },
     "output_type": "display_data"
    }
   ],
   "source": [
    "total.plot(kind='scatter',x='GDP',y='Refugee',color='red')\n",
    "plt.show()"
   ]
  },
  {
   "cell_type": "markdown",
   "metadata": {},
   "source": [
    "The country that has the least population is taking in fewer refugees. As confirmed in the bar chart above, Somalia that has the most growth has the most percentage of refugees. I would imagine countries like Qatar and Sri Lanka that the least population growth and higher GDP per capita would consider taking in more refugees. "
   ]
  },
  {
   "cell_type": "markdown",
   "metadata": {},
   "source": [
    "<a id='conclusions'></a>\n",
    "## Conclusions\n",
    "\n",
    "> The countries that have least population growth have fewer refugees. The countries that have lower GDP per capita have hosted the most percentage of refugees. The wealthiest country has fewer refugees. This finding tells that the country that has the highest GDP per capita has the fewest number of refugees.\n",
    "\n",
    ">Limitation: Ideally, the mean GDP should be incorporated to see where these countries stand when compared to the mean. "
   ]
  }
 ],
 "metadata": {
  "kernelspec": {
   "display_name": "Python 3",
   "language": "python",
   "name": "python3"
  },
  "language_info": {
   "codemirror_mode": {
    "name": "ipython",
    "version": 3
   },
   "file_extension": ".py",
   "mimetype": "text/x-python",
   "name": "python",
   "nbconvert_exporter": "python",
   "pygments_lexer": "ipython3",
   "version": "3.7.7"
  }
 },
 "nbformat": 4,
 "nbformat_minor": 2
}
